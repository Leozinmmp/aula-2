{
  "nbformat": 4,
  "nbformat_minor": 0,
  "metadata": {
    "colab": {
      "provenance": [],
      "authorship_tag": "ABX9TyOiM1ghV9K6bqY0JEoCxnZn",
      "include_colab_link": true
    },
    "kernelspec": {
      "name": "python3",
      "display_name": "Python 3"
    },
    "language_info": {
      "name": "python"
    }
  },
  "cells": [
    {
      "cell_type": "markdown",
      "metadata": {
        "id": "view-in-github",
        "colab_type": "text"
      },
      "source": [
        "<a href=\"https://colab.research.google.com/github/Leozinmmp/aula-2/blob/main/Untitled1.ipynb\" target=\"_parent\"><img src=\"https://colab.research.google.com/assets/colab-badge.svg\" alt=\"Open In Colab\"/></a>"
      ]
    },
    {
      "cell_type": "code",
      "execution_count": null,
      "metadata": {
        "colab": {
          "base_uri": "https://localhost:8080/"
        },
        "id": "blVnZ5vYvNhi",
        "outputId": "2aa656dc-c104-42e4-a9f6-ddfde0db0701"
      },
      "outputs": [
        {
          "output_type": "stream",
          "name": "stdout",
          "text": [
            "Teste\n"
          ]
        }
      ],
      "source": [
        "print(\"Teste\")"
      ]
    },
    {
      "cell_type": "code",
      "source": [
        "#bdhbhdcbf\n",
        "#kjfngbkfngb\n",
        "#"
      ],
      "metadata": {
        "id": "OoXBQTFlv1VO"
      },
      "execution_count": null,
      "outputs": []
    },
    {
      "cell_type": "code",
      "source": [
        "numero = 1212\n",
        "nome = \"Leo\"\n",
        "print(nome)"
      ],
      "metadata": {
        "colab": {
          "base_uri": "https://localhost:8080/"
        },
        "id": "mlzrxnlIxy5V",
        "outputId": "7c7ac6c6-308d-4d66-b880-f7fa83fac0df"
      },
      "execution_count": null,
      "outputs": [
        {
          "output_type": "stream",
          "name": "stdout",
          "text": [
            "Leo\n"
          ]
        }
      ]
    },
    {
      "cell_type": "code",
      "source": [
        "#Crie 3 variaveis numericas faça um calculo com elas\n",
        "#Crie 2 variaveis do tipo string seu nome e sobrenome e contatene(some)\n",
        "#Exiba os resultados com print\n",
        "\n",
        "numero1 = 1\n",
        "numero2 = 2\n",
        "numero3 = 3\n",
        "\n",
        "print(numero1 + numero2 - numero3)\n",
        "\n",
        "Nome = \"Leonardo \"\n",
        "Sobrenome = \"Moreira\"\n",
        "\n",
        "print(Nome + Sobrenome)"
      ],
      "metadata": {
        "colab": {
          "base_uri": "https://localhost:8080/"
        },
        "id": "k_mpl9tcy7Ej",
        "outputId": "240857f9-fb23-41b0-d2e5-fb264454643e"
      },
      "execution_count": null,
      "outputs": [
        {
          "output_type": "stream",
          "name": "stdout",
          "text": [
            "0\n",
            "Leonardo Moreira\n"
          ]
        }
      ]
    },
    {
      "cell_type": "code",
      "source": [
        "seu_nome = input(\"Digite seu nome: \")\n",
        "print(\"Bem vindo \" + seu_nome)"
      ],
      "metadata": {
        "colab": {
          "base_uri": "https://localhost:8080/"
        },
        "id": "UHWkQVm7zXcX",
        "outputId": "2ad37c72-c2aa-41ff-b8e6-ad84f9379a20"
      },
      "execution_count": null,
      "outputs": [
        {
          "output_type": "stream",
          "name": "stdout",
          "text": [
            "Digite seu nome: leo\n",
            "Bem vindo leo\n"
          ]
        }
      ]
    },
    {
      "cell_type": "code",
      "source": [
        "#Crie um codigo que solicite o nome do usuario e o ano de nascimento.\n",
        "\n",
        "#Calcular a idade e exibir a mensagem \"Bem vindo [pessoa] voce tem [idade] anos"
      ],
      "metadata": {
        "id": "LZcogaQj4XS0"
      },
      "execution_count": null,
      "outputs": []
    },
    {
      "cell_type": "code",
      "source": [
        "seu_nome = input(\"Digite seu nome: \")\n",
        "ano_nascimento = int(input(\"Digite seu ano de nascimento: \"))\n",
        "idade = 2024 - ano_nascimento\n",
        "\n",
        "print(f\"Bem vindo {seu_nome}! Você tem {idade} anos.\")\n",
        "\n"
      ],
      "metadata": {
        "colab": {
          "base_uri": "https://localhost:8080/"
        },
        "id": "l2VFWPji5Wf8",
        "outputId": "8d31e44e-080e-4175-c113-0a6b36ec5ca8"
      },
      "execution_count": null,
      "outputs": [
        {
          "output_type": "stream",
          "name": "stdout",
          "text": [
            "Digite seu nome: leo\n",
            "Digite seu ano de nascimento: 2006\n",
            "Bem vindo leo! Você tem 18 anos.\n"
          ]
        }
      ]
    },
    {
      "cell_type": "code",
      "source": [
        "#Crie um codigo que solicite o nome do usuario, peso, altura e IMC.\n",
        "#IMC=PESO/ALTURA ^2"
      ],
      "metadata": {
        "id": "n0I5rEutIPz5"
      },
      "execution_count": null,
      "outputs": []
    },
    {
      "cell_type": "code",
      "source": [
        "seu_nome = input(\"Digite seu nome: \")\n",
        "seu_peso = float(input(\"Digite seu peso: \"))\n",
        "sua_altura = float(input(\"Digite sua altura: \"))\n",
        "IMC = seu_peso / (sua_altura * sua_altura)\n",
        "\n",
        "print(f\"Bem vindo {seu_nome}! Você tem {IMC} de massa corporal.\")\n"
      ],
      "metadata": {
        "colab": {
          "base_uri": "https://localhost:8080/"
        },
        "id": "6hsRpp2WIk0J",
        "outputId": "3446627b-9d9a-49d3-a160-58f2e84a2cdd"
      },
      "execution_count": 21,
      "outputs": [
        {
          "output_type": "stream",
          "name": "stdout",
          "text": [
            "Digite seu nome: emilly\n",
            "Digite seu peso: 57\n",
            "Digite sua altura: 1.66\n",
            "Bem vindo emilly! Você tem 20.685150239512268 de massa corporal.\n"
          ]
        }
      ]
    },
    {
      "cell_type": "code",
      "source": [
        "IMC = 20\n",
        "if IMC < 16.9:\n",
        "  print(\"Você é muito abaixo do peso.\")\n",
        "elif IMC < 18.4:\n",
        "  print(\"Você é abaixo do peso.\")\n",
        "elif IMC < 24.9:\n",
        "  print(\"Você esta no peso normal.\")\n",
        "elif IMC < 29.9:\n",
        "  print(\"Você esta acima do peso.\")\n",
        "elif IMC < 34.9:\n",
        "  print(\"Você esta obesidade grau 1.\")\n",
        "elif IMC < 40.0:\n",
        "  print(\"Você esta obesidade grau 2.\")\n",
        "elif IMC > 40.0:\n",
        "  print(\"Você esta obesidade grau 3.\")"
      ],
      "metadata": {
        "colab": {
          "base_uri": "https://localhost:8080/"
        },
        "id": "NUajAayp9Mrp",
        "outputId": "6dfcbc63-3942-4454-b0c2-a6985a8991a3"
      },
      "execution_count": 23,
      "outputs": [
        {
          "output_type": "stream",
          "name": "stdout",
          "text": [
            "Você esta no peso normal.\n"
          ]
        }
      ]
    },
    {
      "cell_type": "code",
      "source": [
        "numero = 10"
      ],
      "metadata": {
        "id": "LU9QGvle40Oh"
      },
      "execution_count": 1,
      "outputs": []
    },
    {
      "cell_type": "code",
      "source": [
        " idade = 80\n",
        " if idade < 12:\n",
        "  print(\"Você é uma criança\")\n",
        "elif idade < 17:\n",
        "  print(\"Você é um adolescente\")\n",
        "elif idade < 59:\n",
        "  print(\"Você é um adulto\")\n",
        "else:\n",
        "  print(\"Você é um idoso\")"
      ],
      "metadata": {
        "colab": {
          "base_uri": "https://localhost:8080/"
        },
        "id": "XzHWP0u35xXU",
        "outputId": "fc16a34e-e67d-407c-ea5f-2cdbdca45981"
      },
      "execution_count": 10,
      "outputs": [
        {
          "output_type": "stream",
          "name": "stdout",
          "text": [
            "Você é um idoso\n"
          ]
        }
      ]
    }
  ]
}